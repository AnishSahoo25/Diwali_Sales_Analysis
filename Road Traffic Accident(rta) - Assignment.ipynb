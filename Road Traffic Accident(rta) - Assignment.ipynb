{
 "cells": [
  {
   "cell_type": "markdown",
   "metadata": {},
   "source": [
    "## <center>   Assignment </center>"
   ]
  },
  {
   "cell_type": "code",
   "execution_count": 2,
   "metadata": {},
   "outputs": [],
   "source": [
    "import pandas as pd\n",
    "from matplotlib import pyplot as plt\n",
    "from scipy import stats as st"
   ]
  },
  {
   "cell_type": "code",
   "execution_count": 3,
   "metadata": {},
   "outputs": [],
   "source": [
    "rta = pd.read_excel('Assignment_Batch7_stats.xlsx', skiprows=18)\n",
    "rta.drop(columns=['Unnamed: 11','Unnamed: 12'], inplace = True)"
   ]
  },
  {
   "cell_type": "code",
   "execution_count": 5,
   "metadata": {},
   "outputs": [
    {
     "data": {
      "text/html": [
       "<div>\n",
       "<style scoped>\n",
       "    .dataframe tbody tr th:only-of-type {\n",
       "        vertical-align: middle;\n",
       "    }\n",
       "\n",
       "    .dataframe tbody tr th {\n",
       "        vertical-align: top;\n",
       "    }\n",
       "\n",
       "    .dataframe thead th {\n",
       "        text-align: right;\n",
       "    }\n",
       "</style>\n",
       "<table border=\"1\" class=\"dataframe\">\n",
       "  <thead>\n",
       "    <tr style=\"text-align: right;\">\n",
       "      <th></th>\n",
       "      <th>Serial number</th>\n",
       "      <th>Age (yrs)</th>\n",
       "      <th>Gender</th>\n",
       "      <th>Occupation</th>\n",
       "      <th>Site of death</th>\n",
       "      <th>Time of death</th>\n",
       "      <th>Alco,Drug etc</th>\n",
       "      <th>Use of helmet</th>\n",
       "      <th>Type of vehicle</th>\n",
       "      <th>Period of coma (hrs)</th>\n",
       "      <th>Person died</th>\n",
       "    </tr>\n",
       "  </thead>\n",
       "  <tbody>\n",
       "    <tr>\n",
       "      <th>45</th>\n",
       "      <td>46</td>\n",
       "      <td>32</td>\n",
       "      <td>Male</td>\n",
       "      <td>Student</td>\n",
       "      <td>Spot</td>\n",
       "      <td>Immediately</td>\n",
       "      <td>Yes</td>\n",
       "      <td>No</td>\n",
       "      <td>RX 100</td>\n",
       "      <td>NaN</td>\n",
       "      <td>Rider</td>\n",
       "    </tr>\n",
       "    <tr>\n",
       "      <th>46</th>\n",
       "      <td>47</td>\n",
       "      <td>42</td>\n",
       "      <td>Male</td>\n",
       "      <td>Employee</td>\n",
       "      <td>Spot</td>\n",
       "      <td>Immediately</td>\n",
       "      <td>Yes</td>\n",
       "      <td>No</td>\n",
       "      <td>Scooty</td>\n",
       "      <td>NaN</td>\n",
       "      <td>Rider</td>\n",
       "    </tr>\n",
       "    <tr>\n",
       "      <th>47</th>\n",
       "      <td>48</td>\n",
       "      <td>23</td>\n",
       "      <td>Male</td>\n",
       "      <td>Mechanic</td>\n",
       "      <td>Spot</td>\n",
       "      <td>Immediately</td>\n",
       "      <td>Yes</td>\n",
       "      <td>No</td>\n",
       "      <td>Scooter</td>\n",
       "      <td>NaN</td>\n",
       "      <td>Rider</td>\n",
       "    </tr>\n",
       "    <tr>\n",
       "      <th>48</th>\n",
       "      <td>49</td>\n",
       "      <td>5</td>\n",
       "      <td>Female</td>\n",
       "      <td>Student</td>\n",
       "      <td>On the way</td>\n",
       "      <td>Immediately</td>\n",
       "      <td>No</td>\n",
       "      <td>No</td>\n",
       "      <td>RX 100</td>\n",
       "      <td>NaN</td>\n",
       "      <td>Pillion</td>\n",
       "    </tr>\n",
       "    <tr>\n",
       "      <th>49</th>\n",
       "      <td>50</td>\n",
       "      <td>25</td>\n",
       "      <td>Male</td>\n",
       "      <td>Student</td>\n",
       "      <td>On the way</td>\n",
       "      <td>Immediately</td>\n",
       "      <td>Yes</td>\n",
       "      <td>No</td>\n",
       "      <td>RX 100</td>\n",
       "      <td>NaN</td>\n",
       "      <td>Rider</td>\n",
       "    </tr>\n",
       "  </tbody>\n",
       "</table>\n",
       "</div>"
      ],
      "text/plain": [
       "    Serial number  Age (yrs)  Gender Occupation Site of death Time of death  \\\n",
       "45             46         32    Male    Student          Spot   Immediately   \n",
       "46             47         42    Male   Employee          Spot   Immediately   \n",
       "47             48         23    Male   Mechanic          Spot   Immediately   \n",
       "48             49          5  Female    Student    On the way   Immediately   \n",
       "49             50         25    Male    Student    On the way   Immediately   \n",
       "\n",
       "   Alco,Drug etc Use of helmet Type of vehicle  Period of coma (hrs)  \\\n",
       "45           Yes            No          RX 100                   NaN   \n",
       "46           Yes            No          Scooty                   NaN   \n",
       "47           Yes            No         Scooter                   NaN   \n",
       "48            No            No          RX 100                   NaN   \n",
       "49           Yes            No          RX 100                   NaN   \n",
       "\n",
       "   Person died  \n",
       "45       Rider  \n",
       "46       Rider  \n",
       "47       Rider  \n",
       "48     Pillion  \n",
       "49       Rider  "
      ]
     },
     "execution_count": 5,
     "metadata": {},
     "output_type": "execute_result"
    }
   ],
   "source": [
    "rta.tail()"
   ]
  },
  {
   "cell_type": "markdown",
   "metadata": {},
   "source": [
    "### 1. How many children (<= 18 years) have died in the accident and how many of them are males and females?"
   ]
  },
  {
   "cell_type": "code",
   "execution_count": 104,
   "metadata": {},
   "outputs": [
    {
     "data": {
      "text/plain": [
       "Male      6\n",
       "Female    2\n",
       "Name: Gender, dtype: int64"
      ]
     },
     "execution_count": 104,
     "metadata": {},
     "output_type": "execute_result"
    }
   ],
   "source": [
    "rta[rta['Age (yrs)'] <= 18]['Gender'].value_counts()"
   ]
  },
  {
   "cell_type": "code",
   "execution_count": null,
   "metadata": {},
   "outputs": [],
   "source": []
  },
  {
   "cell_type": "markdown",
   "metadata": {},
   "source": [
    "### 2. How many children had taken alcohol? Were they riders or pillion when they died?"
   ]
  },
  {
   "cell_type": "code",
   "execution_count": 17,
   "metadata": {},
   "outputs": [
    {
     "name": "stdout",
     "output_type": "stream",
     "text": [
      "3 children had taken alcohol\n",
      "Pillion    2\n",
      "Rider      1\n",
      "Name: Person died, dtype: int64\n"
     ]
    }
   ],
   "source": [
    "print(rta[(rta['Alco,Drug etc']== 'Yes') & (rta['Age (yrs)'] <= 18)]['Serial number'].count(),'children had taken alcohol')\n",
    "print(rta[(rta['Alco,Drug etc']== 'Yes')&(rta['Age (yrs)'] <= 18)]['Person died'].value_counts())\n"
   ]
  },
  {
   "cell_type": "markdown",
   "metadata": {},
   "source": [
    "### 3. How many children have died immediately in the accident as pillion riders who had consumed alcolhol? "
   ]
  },
  {
   "cell_type": "code",
   "execution_count": 88,
   "metadata": {},
   "outputs": [
    {
     "data": {
      "text/plain": [
       "2"
      ]
     },
     "execution_count": 88,
     "metadata": {},
     "output_type": "execute_result"
    }
   ],
   "source": [
    "rta[(rta['Time of death']=='Immediately') & (rta['Person died'] == 'Pillion') & (rta['Alco,Drug etc']== 'Yes') & (rta['Age (yrs)'] <= 18)]['Site of death'].count()"
   ]
  },
  {
   "cell_type": "markdown",
   "metadata": {},
   "source": [
    "### 4. How many have died under the influence of alcohol/drug and without wearing helmet?\n"
   ]
  },
  {
   "cell_type": "code",
   "execution_count": 34,
   "metadata": {},
   "outputs": [
    {
     "data": {
      "text/plain": [
       "19"
      ]
     },
     "execution_count": 34,
     "metadata": {},
     "output_type": "execute_result"
    }
   ],
   "source": [
    "rta[(rta['Alco,Drug etc']== 'Yes') & (rta['Use of helmet']=='No')]['Gender'].count()\n"
   ]
  },
  {
   "cell_type": "markdown",
   "metadata": {},
   "source": [
    "### 5. How many of them have died between the age group of 31 - 40 years inspite of wearing helmet?"
   ]
  },
  {
   "cell_type": "code",
   "execution_count": 7,
   "metadata": {},
   "outputs": [
    {
     "data": {
      "text/plain": [
       "2"
      ]
     },
     "execution_count": 7,
     "metadata": {},
     "output_type": "execute_result"
    }
   ],
   "source": [
    "rta[((rta['Age (yrs)']>=31 ) & (rta['Age (yrs)'] <= 40 )) & (rta['Use of helmet'] == 'Yes')]['Age (yrs)'].count()\n"
   ]
  },
  {
   "cell_type": "markdown",
   "metadata": {},
   "source": [
    "### 6. What is the ratio of male and female who died on the spot?"
   ]
  },
  {
   "cell_type": "code",
   "execution_count": 58,
   "metadata": {},
   "outputs": [],
   "source": [
    "male = rta[(rta['Gender'] == 'Male') & (rta['Site of death'] == 'Spot')]['Gender'].count()\n",
    "female = rta[(rta['Gender'] == 'Female') & (rta['Site of death'] == 'Spot')]['Gender'].count()"
   ]
  },
  {
   "cell_type": "code",
   "execution_count": 59,
   "metadata": {},
   "outputs": [
    {
     "data": {
      "text/html": [
       "<div>\n",
       "<style scoped>\n",
       "    .dataframe tbody tr th:only-of-type {\n",
       "        vertical-align: middle;\n",
       "    }\n",
       "\n",
       "    .dataframe tbody tr th {\n",
       "        vertical-align: top;\n",
       "    }\n",
       "\n",
       "    .dataframe thead th {\n",
       "        text-align: right;\n",
       "    }\n",
       "</style>\n",
       "<table border=\"1\" class=\"dataframe\">\n",
       "  <thead>\n",
       "    <tr style=\"text-align: right;\">\n",
       "      <th></th>\n",
       "      <th>Gender</th>\n",
       "      <th>Count</th>\n",
       "    </tr>\n",
       "  </thead>\n",
       "  <tbody>\n",
       "    <tr>\n",
       "      <th>0</th>\n",
       "      <td>Male</td>\n",
       "      <td>14</td>\n",
       "    </tr>\n",
       "    <tr>\n",
       "      <th>1</th>\n",
       "      <td>Female</td>\n",
       "      <td>5</td>\n",
       "    </tr>\n",
       "  </tbody>\n",
       "</table>\n",
       "</div>"
      ],
      "text/plain": [
       "   Gender  Count\n",
       "0    Male     14\n",
       "1  Female      5"
      ]
     },
     "execution_count": 59,
     "metadata": {},
     "output_type": "execute_result"
    }
   ],
   "source": [
    "df = pd.DataFrame()\n",
    "df['Gender']=['Male','Female']\n",
    "df['Count'] = [male,female]\n",
    "df"
   ]
  },
  {
   "cell_type": "code",
   "execution_count": 71,
   "metadata": {},
   "outputs": [
    {
     "data": {
      "image/png": "[encoded data removed]",
      "text/plain": [
       "<Figure size 432x288 with 1 Axes>"
      ]
     },
     "metadata": {},
     "output_type": "display_data"
    }
   ],
   "source": [
    "from matplotlib import pyplot as plt\n",
    "plt.pie(df.Count, labels=df.Gender, autopct = '%.2f')\n",
    "plt.show()"
   ]
  },
  {
   "cell_type": "markdown",
   "metadata": {},
   "source": [
    "### 7. Whai is the medianal survival time  and IQR of RTA victims who died in the hospital?\n"
   ]
  },
  {
   "cell_type": "code",
   "execution_count": 16,
   "metadata": {},
   "outputs": [],
   "source": [
    "tmofsrvl= rta[rta['Site of death']== 'Hospital']['Time of death']\n",
    "time=[]"
   ]
  },
  {
   "cell_type": "code",
   "execution_count": 17,
   "metadata": {},
   "outputs": [],
   "source": [
    "import re\n",
    "for i in tmofsrvl:\n",
    "    if len(re.findall('\\d.*[^\\S]',i))>0:\n",
    "        time.append(int(re.findall('\\d.*[^\\S]',i)[0]))\n",
    "    else:\n",
    "        time.append(0)"
   ]
  },
  {
   "cell_type": "code",
   "execution_count": 31,
   "metadata": {},
   "outputs": [
    {
     "name": "stdout",
     "output_type": "stream",
     "text": [
      "medianal survival time is: 72.0\n"
     ]
    }
   ],
   "source": [
    "import numpy as np\n",
    "print('medianal survival time is:',np.median(sorted(time)))"
   ]
  },
  {
   "cell_type": "code",
   "execution_count": 41,
   "metadata": {},
   "outputs": [],
   "source": [
    "ðdf = pd.DataFrame(time)"
   ]
  },
  {
   "cell_type": "code",
   "execution_count": 42,
   "metadata": {},
   "outputs": [
    {
     "name": "stdout",
     "output_type": "stream",
     "text": [
      "IQR of RTA victims who died in the hospital is: 139.0\n"
     ]
    }
   ],
   "source": [
    "print('IQR of RTA victims who died in the hospital is:',(df.quantile(.75)- df.quantile(.25))[0])"
   ]
  },
  {
   "cell_type": "markdown",
   "metadata": {},
   "source": [
    "### 8. How many of them have died in the hospital for whom wearing of helmet details not available? Do you think these people could have wore helmet at the time of accident?"
   ]
  },
  {
   "cell_type": "code",
   "execution_count": 8,
   "metadata": {},
   "outputs": [
    {
     "data": {
      "text/plain": [
       "6"
      ]
     },
     "execution_count": 8,
     "metadata": {},
     "output_type": "execute_result"
    }
   ],
   "source": [
    "rta[(rta['Use of helmet'] == 'Na')& (rta['Site of death']=='Hospital')]['Gender'].count()"
   ]
  },
  {
   "cell_type": "code",
   "execution_count": 11,
   "metadata": {},
   "outputs": [
    {
     "name": "stdout",
     "output_type": "stream",
     "text": [
      "Probability of wearing helmet is  0.075\n",
      "Probability of not wearing helmet is 0.925\n"
     ]
    }
   ],
   "source": [
    "yes= rta[rta['Use of helmet']== 'Yes']['Gender'].count()\n",
    "no= rta[rta['Use of helmet']== 'No']['Gender'].count()\n",
    "probability_of_yes = yes/(yes+no) \n",
    "probability_of_no = no/(yes+no)\n",
    "print('Probability of wearing helmet is ', probability_of_yes)\n",
    "print('Probability of not wearing helmet is', probability_of_no)"
   ]
  },
  {
   "cell_type": "markdown",
   "metadata": {},
   "source": [
    "So we can conclude that these people could not wear helmet at the time of accident because the probability of not wearing helmet is more higher than th probability of wearing the helmet"
   ]
  },
  {
   "cell_type": "markdown",
   "metadata": {},
   "source": [
    "### 9. What is the medianal period of coma (hrs) and IQR of RTA victims who died in the hospital?"
   ]
  },
  {
   "cell_type": "code",
   "execution_count": 32,
   "metadata": {},
   "outputs": [],
   "source": [
    "tmofsrvl= rta[rta['Site of death']== 'Hospital']['Period of coma (hrs)']"
   ]
  },
  {
   "cell_type": "code",
   "execution_count": 33,
   "metadata": {},
   "outputs": [],
   "source": [
    "tmofsrvl=tmofsrvl.fillna(0)"
   ]
  },
  {
   "cell_type": "code",
   "execution_count": 37,
   "metadata": {},
   "outputs": [
    {
     "name": "stdout",
     "output_type": "stream",
     "text": [
      "medianal period of coma (hrs) is: 72.0\n"
     ]
    }
   ],
   "source": [
    "print('medianal period of coma (hrs) is:',np.median(tmofsrvl.sort_values()))"
   ]
  },
  {
   "cell_type": "code",
   "execution_count": 14,
   "metadata": {},
   "outputs": [
    {
     "name": "stdout",
     "output_type": "stream",
     "text": [
      "IQR of RTA victims 139.0\n"
     ]
    }
   ],
   "source": [
    "print('IQR of RTA victims',tmofsrvl.quantile(.75)-tmofsrvl.quantile(.25))"
   ]
  },
  {
   "cell_type": "markdown",
   "metadata": {},
   "source": [
    "### 10. What is the ratio of students to bussinessmen who died in RTA under the influence of alcohol?"
   ]
  },
  {
   "cell_type": "code",
   "execution_count": 45,
   "metadata": {},
   "outputs": [],
   "source": [
    "businessman=rta[(rta.Occupation == 'Bussinesman') & (rta['Alco,Drug etc']== 'Yes')]['Occupation'].count()\n",
    "student = rta[(rta.Occupation == 'Student')& (rta['Alco,Drug etc']== 'Yes')]['Occupation'].count()"
   ]
  },
  {
   "cell_type": "code",
   "execution_count": 46,
   "metadata": {},
   "outputs": [
    {
     "data": {
      "text/html": [
       "<div>\n",
       "<style scoped>\n",
       "    .dataframe tbody tr th:only-of-type {\n",
       "        vertical-align: middle;\n",
       "    }\n",
       "\n",
       "    .dataframe tbody tr th {\n",
       "        vertical-align: top;\n",
       "    }\n",
       "\n",
       "    .dataframe thead th {\n",
       "        text-align: right;\n",
       "    }\n",
       "</style>\n",
       "<table border=\"1\" class=\"dataframe\">\n",
       "  <thead>\n",
       "    <tr style=\"text-align: right;\">\n",
       "      <th></th>\n",
       "      <th>Occupation</th>\n",
       "      <th>Count</th>\n",
       "    </tr>\n",
       "  </thead>\n",
       "  <tbody>\n",
       "    <tr>\n",
       "      <th>0</th>\n",
       "      <td>Businessman</td>\n",
       "      <td>5</td>\n",
       "    </tr>\n",
       "    <tr>\n",
       "      <th>1</th>\n",
       "      <td>Student</td>\n",
       "      <td>6</td>\n",
       "    </tr>\n",
       "  </tbody>\n",
       "</table>\n",
       "</div>"
      ],
      "text/plain": [
       "    Occupation  Count\n",
       "0  Businessman      5\n",
       "1      Student      6"
      ]
     },
     "execution_count": 46,
     "metadata": {},
     "output_type": "execute_result"
    }
   ],
   "source": [
    "df = pd.DataFrame()\n",
    "df['Occupation']=['Businessman','Student']\n",
    "df['Count'] = [businessman, student]\n",
    "df"
   ]
  },
  {
   "cell_type": "code",
   "execution_count": 47,
   "metadata": {},
   "outputs": [
    {
     "data": {
      "image/png": "[encoded data removed]",
      "text/plain": [
       "<Figure size 432x288 with 1 Axes>"
      ]
     },
     "metadata": {},
     "output_type": "display_data"
    }
   ],
   "source": [
    "plt.pie(df.Count, labels=df.Occupation, autopct = '%.2f')\n",
    "plt.show()"
   ]
  },
  {
   "cell_type": "markdown",
   "metadata": {},
   "source": [
    "### 11. State some of the hypothesis which may be formulated based on this data?  And test these hypothesis?\n",
    "\n",
    "in all the tests our alpha value is .05 with 95% of confidence level"
   ]
  },
  {
   "cell_type": "code",
   "execution_count": 19,
   "metadata": {},
   "outputs": [],
   "source": [
    "#H0: age of the people consuming Alcohol and drugs and the age of people not consuming Alcohol and drugs having no difference\n",
    "#H1: age of the people consuming Alcohol and drugs and the age of people not consuming Alcohol and drugs having difference"
   ]
  },
  {
   "cell_type": "code",
   "execution_count": 112,
   "metadata": {},
   "outputs": [],
   "source": [
    "age1=[]\n",
    "age2=[]\n",
    "for i in rta[rta['Alco,Drug etc']== 'Yes']['Age (yrs)'][:23]:\n",
    "    age1.append(i)\n",
    "for j in rta[rta['Alco,Drug etc'] == 'No']['Age (yrs)'][:23]:\n",
    "    age2.append(j)\n"
   ]
  },
  {
   "cell_type": "code",
   "execution_count": 113,
   "metadata": {},
   "outputs": [],
   "source": [
    "df = pd.DataFrame(age1, age2)"
   ]
  },
  {
   "cell_type": "code",
   "execution_count": 114,
   "metadata": {},
   "outputs": [],
   "source": [
    "df.reset_index(inplace=True)"
   ]
  },
  {
   "cell_type": "code",
   "execution_count": 115,
   "metadata": {},
   "outputs": [],
   "source": [
    "df.columns=['Yes', 'No']"
   ]
  },
  {
   "cell_type": "code",
   "execution_count": 116,
   "metadata": {},
   "outputs": [
    {
     "name": "stdout",
     "output_type": "stream",
     "text": [
      "0.41027938902332955 0.6855691369619543\n"
     ]
    }
   ],
   "source": [
    "tstat,pval = st.ttest_rel(df.Yes,df.No)\n",
    "print(tstat,pval)"
   ]
  },
  {
   "cell_type": "markdown",
   "metadata": {},
   "source": [
    "here p value is greater than the alpha value then the null hypothesis is accepted"
   ]
  },
  {
   "cell_type": "code",
   "execution_count": 117,
   "metadata": {},
   "outputs": [
    {
     "data": {
      "text/plain": [
       "(0.692271218587008, 0.707416548343221, 2, array([[17.575,  1.425],\n",
       "        [ 4.625,  0.375],\n",
       "        [14.8  ,  1.2  ]]))"
      ]
     },
     "execution_count": 117,
     "metadata": {},
     "output_type": "execute_result"
    }
   ],
   "source": [
    "#H0: Use of helmet has impact on the site of death\n",
    "#H1: use of helemt has no impact on the site of death\n",
    "df2= pd.crosstab(rta['Site of death'], rta['Use of helmet']).drop(columns=['Na'])\n",
    "st.chi2_contingency(df2)"
   ]
  },
  {
   "cell_type": "markdown",
   "metadata": {},
   "source": [
    "here our p value is more than alpha value so the null hypothesis is accepted"
   ]
  },
  {
   "cell_type": "code",
   "execution_count": null,
   "metadata": {},
   "outputs": [],
   "source": [
    "#H0 : Age has no impact on the use of helmet\n",
    "#H1: Age has impact on the use of helmet"
   ]
  },
  {
   "cell_type": "code",
   "execution_count": 119,
   "metadata": {},
   "outputs": [
    {
     "data": {
      "text/plain": [
       "0.37613740355443037"
      ]
     },
     "execution_count": 119,
     "metadata": {},
     "output_type": "execute_result"
    }
   ],
   "source": [
    "da=rta[rta['Use of helmet']!='Na']\n",
    "df3 = pd.crosstab(da['Age (yrs)'], da['Use of helmet'])\n",
    "chi,p,dof,arr=st.chi2_contingency(val)\n",
    "p"
   ]
  },
  {
   "cell_type": "markdown",
   "metadata": {},
   "source": [
    "Here p value is higher than alpha value so null hypothesis accepted"
   ]
  },
  {
   "cell_type": "code",
   "execution_count": 120,
   "metadata": {},
   "outputs": [
    {
     "data": {
      "text/plain": [
       "(1.4929738359690055, 0.47402893351244424, 2, array([[ 7.02,  5.98],\n",
       "        [19.44, 16.56],\n",
       "        [ 0.54,  0.46]]))"
      ]
     },
     "execution_count": 120,
     "metadata": {},
     "output_type": "execute_result"
    }
   ],
   "source": [
    "# H0: rider&pillion death are dependent of alchol\n",
    "# H1: riders & pillion are independent of alcohol\n",
    "\n",
    "df4=pd.crosstab(rta['Person died'],rta['Alco,Drug etc'])\n",
    "st.chi2_contingency(df4)"
   ]
  },
  {
   "cell_type": "markdown",
   "metadata": {},
   "source": [
    "Here our p value is higher than alpha so the null hypothesis is not accepted"
   ]
  },
  {
   "cell_type": "code",
   "execution_count": null,
   "metadata": {},
   "outputs": [],
   "source": [
    "#H0: Age has impact on Alcohol consumtion \n",
    "#H1: Age has no impact on Alcohol consumption"
   ]
  },
  {
   "cell_type": "code",
   "execution_count": 121,
   "metadata": {},
   "outputs": [
    {
     "data": {
      "text/plain": [
       "0.37613740355443037"
      ]
     },
     "execution_count": 121,
     "metadata": {},
     "output_type": "execute_result"
    }
   ],
   "source": [
    "df5=pd.crosstab(rta['Age (yrs)'], rta['Alco,Drug etc'])\n",
    "chi, p, dof, arr=st.chi2_contingency(df5)\n",
    "p"
   ]
  },
  {
   "cell_type": "markdown",
   "metadata": {},
   "source": [
    "Here the p value is higher than the alpha value so accpet the null hypothesis"
   ]
  },
  {
   "cell_type": "markdown",
   "metadata": {},
   "source": [
    " ### 12. Is there sufficient data to test these hypothesis? If so use the available and test those hypothesis. \t\t\t\t\n",
    " Ans. No there is not sufficient data to test the hypothesis, we cant perform any parametric test on the data"
   ]
  },
  {
   "cell_type": "markdown",
   "metadata": {},
   "source": [
    "### 13. Use appropriaate graphs to present the data?"
   ]
  },
  {
   "cell_type": "code",
   "execution_count": 123,
   "metadata": {},
   "outputs": [
    {
     "data": {
      "text/plain": [
       "<matplotlib.axes._subplots.AxesSubplot at 0x2533d8c1198>"
      ]
     },
     "execution_count": 123,
     "metadata": {},
     "output_type": "execute_result"
    },
    {
     "data": {
      "image/png": "[encoded data removed]",
      "text/plain": [
       "<Figure size 432x288 with 1 Axes>"
      ]
     },
     "metadata": {
      "needs_background": "light"
     },
     "output_type": "display_data"
    }
   ],
   "source": [
    "df2.plot(kind='bar')"
   ]
  },
  {
   "cell_type": "code",
   "execution_count": 129,
   "metadata": {},
   "outputs": [
    {
     "data": {
      "text/plain": [
       "<matplotlib.axes._subplots.AxesSubplot at 0x2533da6cc88>"
      ]
     },
     "execution_count": 129,
     "metadata": {},
     "output_type": "execute_result"
    },
    {
     "data": {
      "image/png": "[encoded data removed]",
      "text/plain": [
       "<Figure size 432x288 with 1 Axes>"
      ]
     },
     "metadata": {
      "needs_background": "light"
     },
     "output_type": "display_data"
    }
   ],
   "source": [
    "df4.plot(kind='bar')"
   ]
  },
  {
   "cell_type": "code",
   "execution_count": 131,
   "metadata": {},
   "outputs": [
    {
     "data": {
      "text/plain": [
       "(array([ 4.,  4., 13.,  4., 10.,  8.,  1.,  3.,  2.,  1.]),\n",
       " array([ 5. , 11.7, 18.4, 25.1, 31.8, 38.5, 45.2, 51.9, 58.6, 65.3, 72. ]),\n",
       " <a list of 10 Patch objects>)"
      ]
     },
     "execution_count": 131,
     "metadata": {},
     "output_type": "execute_result"
    },
    {
     "data": {
      "image/png": "[encoded data removed]",
      "text/plain": [
       "<Figure size 432x288 with 1 Axes>"
      ]
     },
     "metadata": {
      "needs_background": "light"
     },
     "output_type": "display_data"
    }
   ],
   "source": [
    "plt.hist(rta['Age (yrs)']) ##checking if age is normally distributed or not"
   ]
  },
  {
   "cell_type": "code",
   "execution_count": 147,
   "metadata": {},
   "outputs": [
    {
     "data": {
      "image/png": "[encoded data removed]",
      "text/plain": [
       "<Figure size 432x288 with 1 Axes>"
      ]
     },
     "metadata": {
      "needs_background": "light"
     },
     "output_type": "display_data"
    }
   ],
   "source": [
    "import seaborn as sns\n",
    "sns.stripplot(df.Yes.sort_values(), df.No.sort_values() ,jitter = 0.5, size= 7)\n",
    "plt.show()\n",
    "#checking the relation between the ages taking alcohol and not taking alcohol"
   ]
  },
  {
   "cell_type": "code",
   "execution_count": 148,
   "metadata": {},
   "outputs": [
    {
     "data": {
      "text/plain": [
       "<matplotlib.axes._subplots.AxesSubplot at 0x2533fa1b358>"
      ]
     },
     "execution_count": 148,
     "metadata": {},
     "output_type": "execute_result"
    },
    {
     "data": {
      "image/png": "[encoded data removed]",
      "text/plain": [
       "<Figure size 432x288 with 1 Axes>"
      ]
     },
     "metadata": {
      "needs_background": "light"
     },
     "output_type": "display_data"
    }
   ],
   "source": [
    "#checking the Null values\n",
    "sns.heatmap(rta.isnull(),cbar=False)"
   ]
  },
  {
   "cell_type": "code",
   "execution_count": 168,
   "metadata": {},
   "outputs": [],
   "source": [
    "## using which vehicle more people died\n",
    "k=rta.groupby('Type of vehicle').count().sort_values('Serial number').reset_index()"
   ]
  },
  {
   "cell_type": "code",
   "execution_count": 174,
   "metadata": {},
   "outputs": [
    {
     "data": {
      "text/plain": [
       "<BarContainer object of 8 artists>"
      ]
     },
     "execution_count": 174,
     "metadata": {},
     "output_type": "execute_result"
    },
    {
     "data": {
      "image/png": "[encoded data removed]",
      "text/plain": [
       "<Figure size 720x360 with 1 Axes>"
      ]
     },
     "metadata": {
      "needs_background": "light"
     },
     "output_type": "display_data"
    }
   ],
   "source": [
    "plt.figure(figsize=(10,5))\n",
    "plt.bar(k['Type of vehicle'],k['Gender'])"
   ]
  },
  {
   "cell_type": "code",
   "execution_count": 178,
   "metadata": {},
   "outputs": [
    {
     "data": {
      "text/plain": [
       "<BarContainer object of 3 artists>"
      ]
     },
     "execution_count": 178,
     "metadata": {},
     "output_type": "execute_result"
    },
    {
     "data": {
      "image/png": "[encoded data removed]",
      "text/plain": [
       "<Figure size 720x360 with 1 Axes>"
      ]
     },
     "metadata": {
      "needs_background": "light"
     },
     "output_type": "display_data"
    }
   ],
   "source": [
    "## what site is having more death\n",
    "dr=rta.groupby('Site of death').count().sort_values('Serial number').reset_index()\n",
    "plt.figure(figsize=(10,5))\n",
    "plt.bar(dr['Site of death'],dr['Gender'])"
   ]
  },
  {
   "cell_type": "markdown",
   "metadata": {},
   "source": [
    "### 14. What are the different types of vehicles used?\n"
   ]
  },
  {
   "cell_type": "code",
   "execution_count": 20,
   "metadata": {},
   "outputs": [
    {
     "data": {
      "text/plain": [
       "array(['Scooter', 'Scooty', 'Kinetic Honda', 'RX 100', 'Hero Honda',\n",
       "       'TVS Suzuki', 'Yezdi', 'TVS 50'], dtype=object)"
      ]
     },
     "execution_count": 20,
     "metadata": {},
     "output_type": "execute_result"
    }
   ],
   "source": [
    "rta['Type of vehicle'].unique()\n"
   ]
  },
  {
   "cell_type": "markdown",
   "metadata": {},
   "source": [
    "### 15. Considering 0 for survival of Rider and 1 for death fit a Logistic regression model for the data by treating all other variables has explanatory variables\n"
   ]
  },
  {
   "cell_type": "code",
   "execution_count": null,
   "metadata": {},
   "outputs": [],
   "source": []
  },
  {
   "cell_type": "code",
   "execution_count": null,
   "metadata": {},
   "outputs": [],
   "source": []
  }
 ],
 "metadata": {
  "kernelspec": {
   "display_name": "Python 3",
   "language": "python",
   "name": "python3"
  },
  "language_info": {
   "codemirror_mode": {
    "name": "ipython",
    "version": 3
   },
   "file_extension": ".py",
   "mimetype": "text/x-python",
   "name": "python",
   "nbconvert_exporter": "python",
   "pygments_lexer": "ipython3",
   "version": "3.7.4"
  }
 },
 "nbformat": 4,
 "nbformat_minor": 2
}
